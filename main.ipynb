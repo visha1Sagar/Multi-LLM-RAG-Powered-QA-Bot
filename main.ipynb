{
  "cells": [
    {
      "cell_type": "markdown",
      "metadata": {
        "id": "MTZgiXooqUJC"
      },
      "source": [
        "## Installing required libraries"
      ]
    },
    {
      "cell_type": "code",
      "execution_count": 13,
      "metadata": {
        "id": "-v0ChsfoqUJF",
        "vscode": {
          "languageId": "plaintext"
        }
      },
      "outputs": [],
      "source": [
        "!pip install --quiet --upgrade langchain langchain-community gradio pypdf langchain-openai faiss-cpu langchain-google-genai pillow"
      ]
    },
    {
      "cell_type": "markdown",
      "metadata": {
        "id": "i5Y0ye4KqUJG"
      },
      "source": [
        "## loading credentials from .env"
      ]
    },
    {
      "cell_type": "code",
      "execution_count": 14,
      "metadata": {
        "id": "GjgEZu5bqUJH",
        "vscode": {
          "languageId": "plaintext"
        }
      },
      "outputs": [],
      "source": [
        "# import os\n",
        "# from dotenv import load_dotenv\n",
        "\n",
        "# load_dotenv('azure_credentials.env')\n",
        "\n",
        "# EMBEDDING_MODEL_NAME = os.getenv(\"EMBEDDING_MODEL_NAME\")\n",
        "# EMBEDDING_ENDPOINT = os.getenv(\"EMBEDDING_ENDPOINT\")\n",
        "# EMBEDDING_API_VERSION = os.getenv(\"EMBEDDING_API_VERSION\")\n",
        "# EMBEDDING_API_KEY = os.getenv(\"EMBEDDING_API_KEY\")\n",
        "# AZURE_OPENAI_API_KEY = os.getenv(\"AZURE_OPENAI_API_KEY\")\n",
        "# API_VERSION = os.getenv(\"API_VERSION\")\n",
        "# AZURE_ENDPOINT = os.getenv(\"AZURE_ENDPOINT\")"
      ]
    },
    {
      "cell_type": "code",
      "execution_count": 38,
      "metadata": {
        "id": "ubIUBGintSrv"
      },
      "outputs": [],
      "source": [
        "from google.colab import userdata\n",
        "\n",
        "EMBEDDING_MODEL_NAME = userdata.get(\"EMBEDDING_MODEL_NAME\")\n",
        "EMBEDDING_ENDPOINT = userdata.get(\"EMBEDDING_ENDPOINT\")\n",
        "EMBEDDING_API_VERSION = userdata.get(\"EMBEDDING_API_VERSION\")\n",
        "EMBEDDING_API_KEY = userdata.get(\"EMBEDDING_API_KEY\")\n",
        "AZURE_OPENAI_API_KEY = userdata.get(\"AZURE_OPENAI_API_KEY\")\n",
        "API_VERSION = userdata.get(\"api_version\")\n",
        "AZURE_ENDPOINT = userdata.get(\"AZURE_ENDPOINT\")"
      ]
    },
    {
      "cell_type": "code",
      "source": [
        "import os\n",
        "\n",
        "if \"GOOGLE_API_KEY\" not in os.environ:\n",
        "    os.environ[\"GOOGLE_API_KEY\"] = userdata.get(\"GOOGLE_API_KEY\")"
      ],
      "metadata": {
        "id": "kCyd97qonyH1"
      },
      "execution_count": 39,
      "outputs": []
    },
    {
      "cell_type": "markdown",
      "metadata": {
        "id": "2I-s38YCqUJI"
      },
      "source": [
        "## Importing required libraries"
      ]
    },
    {
      "cell_type": "code",
      "execution_count": 40,
      "metadata": {
        "id": "UFxV1TAFqUJI",
        "vscode": {
          "languageId": "plaintext"
        }
      },
      "outputs": [],
      "source": [
        "from langchain_openai import AzureChatOpenAI, AzureOpenAIEmbeddings\n",
        "from langchain_core.output_parsers import StrOutputParser\n",
        "from langchain_core.runnables import RunnablePassthrough\n",
        "from langchain_community.vectorstores import FAISS\n",
        "\n",
        "from langchain_core.vectorstores import InMemoryVectorStore\n",
        "from langchain_core.runnables import RunnableParallel\n",
        "\n",
        "from langchain_core.prompts import ChatPromptTemplate\n",
        "\n",
        "from langchain_community.document_loaders import PyPDFLoader\n",
        "\n",
        "from langchain_google_genai import ChatGoogleGenerativeAI\n",
        "\n",
        "from utils import *"
      ]
    },
    {
      "cell_type": "markdown",
      "metadata": {
        "id": "MsRRfkROqUJJ"
      },
      "source": [
        "## Defining LLMs"
      ]
    },
    {
      "cell_type": "code",
      "execution_count": 41,
      "metadata": {
        "id": "ZwoEM8xwqUJJ",
        "vscode": {
          "languageId": "plaintext"
        }
      },
      "outputs": [],
      "source": [
        "llm = AzureChatOpenAI(\n",
        "    api_key=AZURE_OPENAI_API_KEY  ,\n",
        "    api_version=API_VERSION,\n",
        "    azure_endpoint = AZURE_ENDPOINT\n",
        "    )\n",
        "\n",
        "llm_2 = AzureChatOpenAI(\n",
        "    api_key=AZURE_OPENAI_API_KEY  ,\n",
        "    api_version=API_VERSION,\n",
        "    azure_endpoint = AZURE_ENDPOINT\n",
        "    )\n",
        "\n",
        "gemini_llm = ChatGoogleGenerativeAI(model=\"gemini-pro\")"
      ]
    },
    {
      "cell_type": "code",
      "source": [
        "embeddings = AzureOpenAIEmbeddings(\n",
        "    model=EMBEDDING_MODEL_NAME,\n",
        "    azure_endpoint= EMBEDDING_ENDPOINT,\n",
        "    api_key= EMBEDDING_API_KEY,\n",
        "    openai_api_version= EMBEDDING_API_VERSION\n",
        ")"
      ],
      "metadata": {
        "id": "B81hSMP2qMnI"
      },
      "execution_count": 19,
      "outputs": []
    },
    {
      "cell_type": "markdown",
      "metadata": {
        "id": "m5M21hISqUJK"
      },
      "source": [
        "## Prompts"
      ]
    },
    {
      "cell_type": "code",
      "execution_count": 43,
      "metadata": {
        "id": "nqNsFptCqUJK",
        "vscode": {
          "languageId": "plaintext"
        }
      },
      "outputs": [],
      "source": [
        "from utils import prompt_ as rag_prompt, simple_prompt"
      ]
    },
    {
      "cell_type": "markdown",
      "metadata": {
        "id": "VB1iDGIfqUJK"
      },
      "source": [
        "## Getting Vector DB's Retriever"
      ]
    },
    {
      "cell_type": "code",
      "execution_count": 44,
      "metadata": {
        "id": "xyuBWxNqqUJK",
        "vscode": {
          "languageId": "plaintext"
        }
      },
      "outputs": [],
      "source": [
        "retriever = await get_retriever([\"book_name.pdf\"], embeddings=embeddings)"
      ]
    },
    {
      "cell_type": "markdown",
      "metadata": {
        "id": "uHFcyA9rqUJL"
      },
      "source": [
        "## Chains"
      ]
    },
    {
      "cell_type": "code",
      "execution_count": 45,
      "metadata": {
        "id": "nXaKB_z5qUJL",
        "vscode": {
          "languageId": "plaintext"
        }
      },
      "outputs": [],
      "source": [
        "from utils import get_rag_chain\n",
        "\n",
        "\n",
        "# Define the second chain with LLM 2\n",
        "rag_chain_1 = get_rag_chain(retriever, llm, rag_prompt)\n",
        "rag_chain_2 = get_rag_chain(retriever, llm_2, rag_prompt)\n",
        "gemini_chain = get_rag_chain(retriever, gemini_llm, simple_prompt)\n",
        "\n",
        "# Define the third chain with LLM, without RAG\n",
        "chain3 = (\n",
        "    simple_prompt\n",
        "    | llm_2  # Second LLM instance\n",
        "    | StrOutputParser()\n",
        ")\n",
        "\n",
        "chain4 = (\n",
        "    simple_prompt\n",
        "    | gemini_llm  # Second LLM instance\n",
        "    | StrOutputParser()\n",
        ")\n",
        "\n",
        "# Run all chains in parallel with RunnableParallel\n",
        "parallel_chain = RunnableParallel(\n",
        "    {\"GPT_4o_MINI\": rag_chain_1, \"GPT_4o\": rag_chain_2,\n",
        "     \"GP 4o Raw\": chain3, \"Gemini Rag\":gemini_chain,\"Gemini\":chain4 }\n",
        ")\n"
      ]
    },
    {
      "cell_type": "markdown",
      "metadata": {
        "id": "3Ek0JCJEqUJL"
      },
      "source": [
        "# Gradio"
      ]
    },
    {
      "cell_type": "code",
      "execution_count": 46,
      "metadata": {
        "id": "ycAbn_YhqUJL"
      },
      "outputs": [],
      "source": [
        "import gradio as gr"
      ]
    },
    {
      "cell_type": "markdown",
      "metadata": {
        "id": "4DW6xPgUqUJL"
      },
      "source": [
        "# List for storing prev asked questions"
      ]
    },
    {
      "cell_type": "code",
      "execution_count": 47,
      "metadata": {
        "id": "li0AALaoqUJL"
      },
      "outputs": [],
      "source": [
        "qa_history = []"
      ]
    },
    {
      "cell_type": "code",
      "execution_count": 48,
      "metadata": {
        "id": "9wBKnUxpqUJL",
        "vscode": {
          "languageId": "plaintext"
        }
      },
      "outputs": [],
      "source": [
        "# Function to call the chains and storing the answers in list.\n",
        "def generate_response(message, _):\n",
        "    global Questions_Answers\n",
        "    responses = parallel_chain.invoke(message)\n",
        "    qa_history.append({\"question\": message, \"response\": responses})\n",
        "\n",
        "    return responses[\"GPT_4o_MINI\"], responses[\"GPT_4o\"], responses[\"GP 4o Raw\"], responses[\"Gemini Rag\"], responses[\"Gemini\"]"
      ]
    },
    {
      "cell_type": "code",
      "execution_count": 49,
      "metadata": {
        "id": "5T04vWcvqUJM",
        "vscode": {
          "languageId": "plaintext"
        }
      },
      "outputs": [],
      "source": [
        "# Function to filter previous responses based on a search term\n",
        "def search_history(search_term):\n",
        "    # If search_term is empty, return all questions\n",
        "    if search_term == \"\":\n",
        "        return [(qa[\"question\"], qa[\"response\"]) for i, qa in enumerate(qa_history)]\n",
        "\n",
        "    # Filter questions that contain the search term\n",
        "    filtered_history = [(qa[\"question\"], str(qa[\"response\"])) for qa in qa_history if search_term.lower() in qa[\"question\"].lower()]\n",
        "    return filtered_history"
      ]
    },
    {
      "cell_type": "markdown",
      "metadata": {
        "id": "5yjOC1giqUJM"
      },
      "source": [
        "### Gradio Interface"
      ]
    },
    {
      "cell_type": "code",
      "execution_count": 50,
      "metadata": {
        "id": "P_w86yTbqUJM",
        "vscode": {
          "languageId": "plaintext"
        },
        "outputId": "c8a1c360-40e1-4db0-f2f8-80eb89f55186",
        "colab": {
          "base_uri": "https://localhost:8080/"
        }
      },
      "outputs": [
        {
          "output_type": "stream",
          "name": "stderr",
          "text": [
            "/usr/local/lib/python3.10/dist-packages/gradio/utils.py:999: UserWarning: Expected 2 arguments for function <function generate_response at 0x7a5b8da64b80>, received 1.\n",
            "  warnings.warn(\n",
            "/usr/local/lib/python3.10/dist-packages/gradio/utils.py:1003: UserWarning: Expected at least 2 arguments for function <function generate_response at 0x7a5b8da64b80>, received 1.\n",
            "  warnings.warn(\n"
          ]
        }
      ],
      "source": [
        "\n",
        "# Gradio Interface for Chatbot Tab\n",
        "with gr.Blocks(fill_width=True, fill_height=True) as chatbot_tab:\n",
        "    gr.Markdown(\"### Chatbot\")\n",
        "\n",
        "    # Input box for user question\n",
        "    question_input = gr.Textbox(label=\"Ask a question\")\n",
        "\n",
        "\n",
        "    gr.HTML(\"<hr>\")\n",
        "    gr.Markdown(\"GPT 4o Mini RAG response\")\n",
        "    response1 = gr.Markdown(\"\")\n",
        "\n",
        "\n",
        "    gr.HTML(\"<hr>\")\n",
        "    gr.Markdown(\"GPT 4o RAG response\")\n",
        "    response2 = gr.Markdown(\"\")\n",
        "\n",
        "    gr.HTML(\"<hr>\")\n",
        "    gr.Markdown(\"GPT 4o response\")\n",
        "    response3 = gr.Markdown(\"\")\n",
        "\n",
        "    gr.HTML(\"<hr>\")\n",
        "    gr.Markdown(\"Gemini RAG Response\")\n",
        "    response4 = gr.Markdown(\"\")\n",
        "\n",
        "    gr.HTML(\"<hr>\")\n",
        "    gr.Markdown(\"Gemini\")\n",
        "    response5 = gr.Markdown(\"\")\n",
        "\n",
        "    gr.HTML(\"<hr>\")\n",
        "\n",
        "    # Button to submit question\n",
        "    submit_button = gr.Button(\"Submit\")\n",
        "\n",
        "    # Connect question input to chatbot function and display response\n",
        "    submit_button.click(fn=generate_response,\n",
        "                        inputs=question_input, outputs=[response1, response2, response3, response4, response5])\n",
        "\n",
        "\n",
        "# Gradio Interface for Previous Responses Tab\n",
        "with gr.Blocks() as history_tab:\n",
        "    gr.Markdown(\"### Previous Responses\")\n",
        "\n",
        "    # Search bar to filter questions\n",
        "    search_input = gr.Textbox(label=\"Search questions\")\n",
        "\n",
        "    # Display previous questions in rows\n",
        "    questions_output = gr.Dataframe(headers=[\"Question\", \"Response\"], interactive=False)\n",
        "\n",
        "    # Update questions output based on search term\n",
        "    search_input.change(fn=search_history, inputs=search_input, outputs=questions_output)\n",
        "\n",
        "\n",
        "# Combine the tabs into a single interface\n",
        "with gr.Blocks() as app:\n",
        "    with gr.Tabs():\n",
        "        with gr.TabItem(\"Chatbot\"):\n",
        "            chatbot_tab.render()\n",
        "\n",
        "        with gr.TabItem(\"Previous Responses\"):\n",
        "            history_tab.render()"
      ]
    },
    {
      "cell_type": "code",
      "execution_count": 51,
      "metadata": {
        "id": "roDvBRNhqUJN",
        "vscode": {
          "languageId": "plaintext"
        },
        "outputId": "6212a7ff-ee06-4a5f-fbff-29d25cdd71eb",
        "colab": {
          "base_uri": "https://localhost:8080/",
          "height": 645
        }
      },
      "outputs": [
        {
          "output_type": "stream",
          "name": "stdout",
          "text": [
            "Running Gradio in a Colab notebook requires sharing enabled. Automatically setting `share=True` (you can turn this off by setting `share=False` in `launch()` explicitly).\n",
            "\n",
            "Colab notebook detected. To show errors in colab notebook, set debug=True in launch()\n",
            "* Running on public URL: https://3d3bee6da9cfbff7f1.gradio.live\n",
            "\n",
            "This share link expires in 72 hours. For free permanent hosting and GPU upgrades, run `gradio deploy` from the terminal in the working directory to deploy to Hugging Face Spaces (https://huggingface.co/spaces)\n"
          ]
        },
        {
          "output_type": "display_data",
          "data": {
            "text/plain": [
              "<IPython.core.display.HTML object>"
            ],
            "text/html": [
              "<div><iframe src=\"https://3d3bee6da9cfbff7f1.gradio.live\" width=\"100%\" height=\"500\" allow=\"autoplay; camera; microphone; clipboard-read; clipboard-write;\" frameborder=\"0\" allowfullscreen></iframe></div>"
            ]
          },
          "metadata": {}
        },
        {
          "output_type": "execute_result",
          "data": {
            "text/plain": []
          },
          "metadata": {},
          "execution_count": 51
        }
      ],
      "source": [
        "app.launch()"
      ]
    },
    {
      "cell_type": "code",
      "execution_count": 36,
      "metadata": {
        "id": "wOs860jXqUJN",
        "vscode": {
          "languageId": "plaintext"
        }
      },
      "outputs": [],
      "source": []
    }
  ],
  "metadata": {
    "colab": {
      "provenance": []
    },
    "kernelspec": {
      "display_name": "Python 3",
      "name": "python3"
    },
    "language_info": {
      "name": "python"
    }
  },
  "nbformat": 4,
  "nbformat_minor": 0
}