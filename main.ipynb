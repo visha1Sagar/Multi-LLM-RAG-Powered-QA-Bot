{
  "cells": [
    {
      "cell_type": "markdown",
      "metadata": {
        "id": "view-in-github",
        "colab_type": "text"
      },
      "source": [
        "<a href=\"https://colab.research.google.com/github/visha1Sagar/Multi-LLM-RAG-Powered-QA-Bot/blob/main/main.ipynb\" target=\"_parent\"><img src=\"https://colab.research.google.com/assets/colab-badge.svg\" alt=\"Open In Colab\"/></a>"
      ]
    },
    {
      "cell_type": "markdown",
      "metadata": {
        "id": "MTZgiXooqUJC"
      },
      "source": [
        "## Installing required libraries"
      ]
    },
    {
      "cell_type": "code",
      "execution_count": 1,
      "metadata": {
        "id": "-v0ChsfoqUJF",
        "vscode": {
          "languageId": "plaintext"
        },
        "colab": {
          "base_uri": "https://localhost:8080/"
        },
        "outputId": "c4b8d89b-ad3c-4e3e-f708-452d77cc6c5f"
      },
      "outputs": [
        {
          "output_type": "stream",
          "name": "stdout",
          "text": [
            "\u001b[2K   \u001b[90m━━━━━━━━━━━━━━━━━━━━━━━━━━━━━━━━━━━━━━━━\u001b[0m \u001b[32m2.4/2.4 MB\u001b[0m \u001b[31m28.3 MB/s\u001b[0m eta \u001b[36m0:00:00\u001b[0m\n",
            "\u001b[2K   \u001b[90m━━━━━━━━━━━━━━━━━━━━━━━━━━━━━━━━━━━━━━━━\u001b[0m \u001b[32m57.1/57.1 MB\u001b[0m \u001b[31m9.7 MB/s\u001b[0m eta \u001b[36m0:00:00\u001b[0m\n",
            "\u001b[2K   \u001b[90m━━━━━━━━━━━━━━━━━━━━━━━━━━━━━━━━━━━━━━━━\u001b[0m \u001b[32m320.1/320.1 kB\u001b[0m \u001b[31m7.2 MB/s\u001b[0m eta \u001b[36m0:00:00\u001b[0m\n",
            "\u001b[2K   \u001b[90m━━━━━━━━━━━━━━━━━━━━━━━━━━━━━━━━━━━━━━━━\u001b[0m \u001b[32m298.0/298.0 kB\u001b[0m \u001b[31m8.0 MB/s\u001b[0m eta \u001b[36m0:00:00\u001b[0m\n",
            "\u001b[2K   \u001b[90m━━━━━━━━━━━━━━━━━━━━━━━━━━━━━━━━━━━━━━━━\u001b[0m \u001b[32m50.4/50.4 kB\u001b[0m \u001b[31m2.7 MB/s\u001b[0m eta \u001b[36m0:00:00\u001b[0m\n",
            "\u001b[2K   \u001b[90m━━━━━━━━━━━━━━━━━━━━━━━━━━━━━━━━━━━━━━━━\u001b[0m \u001b[32m27.5/27.5 MB\u001b[0m \u001b[31m45.5 MB/s\u001b[0m eta \u001b[36m0:00:00\u001b[0m\n",
            "\u001b[2K   \u001b[90m━━━━━━━━━━━━━━━━━━━━━━━━━━━━━━━━━━━━━━━━\u001b[0m \u001b[32m41.3/41.3 kB\u001b[0m \u001b[31m2.5 MB/s\u001b[0m eta \u001b[36m0:00:00\u001b[0m\n",
            "\u001b[2K   \u001b[90m━━━━━━━━━━━━━━━━━━━━━━━━━━━━━━━━━━━━━━━━\u001b[0m \u001b[32m94.9/94.9 kB\u001b[0m \u001b[31m6.7 MB/s\u001b[0m eta \u001b[36m0:00:00\u001b[0m\n",
            "\u001b[2K   \u001b[90m━━━━━━━━━━━━━━━━━━━━━━━━━━━━━━━━━━━━━━━━\u001b[0m \u001b[32m11.1/11.1 MB\u001b[0m \u001b[31m72.0 MB/s\u001b[0m eta \u001b[36m0:00:00\u001b[0m\n",
            "\u001b[2K   \u001b[90m━━━━━━━━━━━━━━━━━━━━━━━━━━━━━━━━━━━━━━━━\u001b[0m \u001b[32m3.1/3.1 MB\u001b[0m \u001b[31m56.9 MB/s\u001b[0m eta \u001b[36m0:00:00\u001b[0m\n",
            "\u001b[2K   \u001b[90m━━━━━━━━━━━━━━━━━━━━━━━━━━━━━━━━━━━━━━━━\u001b[0m \u001b[32m73.2/73.2 kB\u001b[0m \u001b[31m4.6 MB/s\u001b[0m eta \u001b[36m0:00:00\u001b[0m\n",
            "\u001b[2K   \u001b[90m━━━━━━━━━━━━━━━━━━━━━━━━━━━━━━━━━━━━━━━━\u001b[0m \u001b[32m1.2/1.2 MB\u001b[0m \u001b[31m45.8 MB/s\u001b[0m eta \u001b[36m0:00:00\u001b[0m\n",
            "\u001b[2K   \u001b[90m━━━━━━━━━━━━━━━━━━━━━━━━━━━━━━━━━━━━━━━━\u001b[0m \u001b[32m63.8/63.8 kB\u001b[0m \u001b[31m4.5 MB/s\u001b[0m eta \u001b[36m0:00:00\u001b[0m\n",
            "\u001b[2K   \u001b[90m━━━━━━━━━━━━━━━━━━━━━━━━━━━━━━━━━━━━━━━━\u001b[0m \u001b[32m49.5/49.5 kB\u001b[0m \u001b[31m2.8 MB/s\u001b[0m eta \u001b[36m0:00:00\u001b[0m\n",
            "\u001b[2K   \u001b[90m━━━━━━━━━━━━━━━━━━━━━━━━━━━━━━━━━━━━━━━━\u001b[0m \u001b[32m130.2/130.2 kB\u001b[0m \u001b[31m8.6 MB/s\u001b[0m eta \u001b[36m0:00:00\u001b[0m\n",
            "\u001b[?25h"
          ]
        }
      ],
      "source": [
        "!pip install --quiet --upgrade langchain langchain-community gradio pypdf langchain-openai faiss-cpu pillow\n"
      ]
    },
    {
      "cell_type": "markdown",
      "metadata": {
        "id": "i5Y0ye4KqUJG"
      },
      "source": [
        "## loading credentials from .env"
      ]
    },
    {
      "cell_type": "code",
      "execution_count": null,
      "metadata": {
        "id": "GjgEZu5bqUJH",
        "vscode": {
          "languageId": "plaintext"
        }
      },
      "outputs": [],
      "source": [
        "# import os\n",
        "# from dotenv import load_dotenv\n",
        "\n",
        "# load_dotenv('azure_credentials.env')\n",
        "\n",
        "# EMBEDDING_MODEL_NAME = os.getenv(\"EMBEDDING_MODEL_NAME\")\n",
        "# EMBEDDING_ENDPOINT = os.getenv(\"EMBEDDING_ENDPOINT\")\n",
        "# EMBEDDING_API_VERSION = os.getenv(\"EMBEDDING_API_VERSION\")\n",
        "# EMBEDDING_API_KEY = os.getenv(\"EMBEDDING_API_KEY\")\n",
        "# AZURE_OPENAI_API_KEY = os.getenv(\"AZURE_OPENAI_API_KEY\")\n",
        "# API_VERSION = os.getenv(\"API_VERSION\")\n",
        "# AZURE_ENDPOINT = os.getenv(\"AZURE_ENDPOINT\")"
      ]
    },
    {
      "cell_type": "markdown",
      "source": [
        "## From Colab Keys"
      ],
      "metadata": {
        "id": "3suDvUhmwKG4"
      }
    },
    {
      "cell_type": "code",
      "execution_count": 9,
      "metadata": {
        "id": "ubIUBGintSrv"
      },
      "outputs": [],
      "source": [
        "from google.colab import userdata\n",
        "\n",
        "EMBEDDING_MODEL_NAME = userdata.get(\"EMBEDDING_MODEL_NAME\")\n",
        "EMBEDDING_ENDPOINT = userdata.get(\"EMBEDDING_ENDPOINT\")\n",
        "EMBEDDING_API_VERSION = userdata.get(\"EMBEDDING_API_VERSION\")\n",
        "\n",
        "AZURE_OPENAI_API_KEY = userdata.get(\"AZURE_OPENAI_API_KEY\")\n",
        "\n",
        "API_VERSION = userdata.get(\"api_version\")\n",
        "AZURE_ENDPOINT = userdata.get(\"AZURE_ENDPOINT\")\n",
        "\n",
        "API_VERSION_4o = userdata.get(\"api_version_4o\")\n",
        "AZURE_ENDPOINT_4o = userdata.get(\"AZURE_ENDPOINT_4o\")"
      ]
    },
    {
      "cell_type": "markdown",
      "metadata": {
        "id": "2I-s38YCqUJI"
      },
      "source": [
        "## Importing required libraries"
      ]
    },
    {
      "cell_type": "code",
      "execution_count": 3,
      "metadata": {
        "id": "UFxV1TAFqUJI",
        "vscode": {
          "languageId": "plaintext"
        }
      },
      "outputs": [],
      "source": [
        "from langchain_openai import AzureChatOpenAI, AzureOpenAIEmbeddings\n",
        "from langchain_core.output_parsers import StrOutputParser\n",
        "from langchain_core.runnables import RunnablePassthrough\n",
        "from langchain_community.vectorstores import FAISS\n",
        "\n",
        "from langchain_core.vectorstores import InMemoryVectorStore\n",
        "from langchain_core.runnables import RunnableParallel\n",
        "\n",
        "from langchain_core.prompts import ChatPromptTemplate\n",
        "\n",
        "from langchain_community.document_loaders import PyPDFLoader\n",
        "\n",
        "from langchain_google_genai import ChatGoogleGenerativeAI\n",
        "\n",
        "from utils import *"
      ]
    },
    {
      "cell_type": "markdown",
      "metadata": {
        "id": "MsRRfkROqUJJ"
      },
      "source": [
        "## Defining LLMs"
      ]
    },
    {
      "cell_type": "code",
      "execution_count": 10,
      "metadata": {
        "id": "ZwoEM8xwqUJJ",
        "vscode": {
          "languageId": "plaintext"
        }
      },
      "outputs": [],
      "source": [
        "llm = AzureChatOpenAI(\n",
        "    api_key=AZURE_OPENAI_API_KEY  ,\n",
        "    api_version=API_VERSION_4o,\n",
        "    azure_endpoint = AZURE_ENDPOINT_4o\n",
        "    )\n",
        "\n",
        "llm_2 = AzureChatOpenAI(\n",
        "    api_key=AZURE_OPENAI_API_KEY  ,\n",
        "    api_version=API_VERSION,\n",
        "    azure_endpoint = AZURE_ENDPOINT\n",
        "    )\n"
      ]
    },
    {
      "cell_type": "code",
      "source": [
        "embeddings = AzureOpenAIEmbeddings(\n",
        "    model=EMBEDDING_MODEL_NAME,\n",
        "    azure_endpoint= EMBEDDING_ENDPOINT,\n",
        "    api_key= AZURE_OPENAI_API_KEY,\n",
        "    openai_api_version= EMBEDDING_API_VERSION\n",
        ")"
      ],
      "metadata": {
        "id": "B81hSMP2qMnI"
      },
      "execution_count": 11,
      "outputs": []
    },
    {
      "cell_type": "markdown",
      "metadata": {
        "id": "m5M21hISqUJK"
      },
      "source": [
        "## Prompts"
      ]
    },
    {
      "cell_type": "code",
      "execution_count": 12,
      "metadata": {
        "id": "nqNsFptCqUJK",
        "vscode": {
          "languageId": "plaintext"
        }
      },
      "outputs": [],
      "source": [
        "from utils import prompt_ as rag_prompt, simple_prompt"
      ]
    },
    {
      "cell_type": "markdown",
      "metadata": {
        "id": "VB1iDGIfqUJK"
      },
      "source": [
        "## Getting Vector DB's Retriever"
      ]
    },
    {
      "cell_type": "code",
      "execution_count": 13,
      "metadata": {
        "id": "xyuBWxNqqUJK",
        "vscode": {
          "languageId": "plaintext"
        }
      },
      "outputs": [],
      "source": [
        "retriever = await get_retriever([\"book.pdf\"], embeddings=embeddings)"
      ]
    },
    {
      "cell_type": "markdown",
      "metadata": {
        "id": "uHFcyA9rqUJL"
      },
      "source": [
        "## Chains"
      ]
    },
    {
      "cell_type": "code",
      "execution_count": 26,
      "metadata": {
        "id": "nXaKB_z5qUJL",
        "vscode": {
          "languageId": "plaintext"
        }
      },
      "outputs": [],
      "source": [
        "from utils import get_rag_chain\n",
        "\n",
        "\n",
        "# Define the second chain with LLM 2\n",
        "rag_chain_1 = get_rag_chain(retriever, llm_2, rag_prompt)## GPT 4o Mini with Rag\n",
        "rag_chain_2 = get_rag_chain(retriever, llm, rag_prompt)         ## 4o with Rag\n",
        "\n",
        "rag_imp = get_rag_chain_custom(retriever, llm, llm_2, rag_prompt)\n",
        "\n",
        "# Define the third chain with LLM, without RAG\n",
        "chain3 = (                                                        ## 4o Raw\n",
        "    simple_prompt\n",
        "    | llm  # Second LLM instance\n",
        "    | StrOutputParser()\n",
        ")\n",
        "\n",
        "\n",
        "# Run all chains in parallel with RunnableParallel\n",
        "parallel_chain = RunnableParallel(\n",
        "    {\"miniRag\": rag_chain_1, \"GPTRag\": rag_chain_2,\n",
        "     \"GPT\": chain3,  \"Rag_exp\":rag_imp}\n",
        ")\n"
      ]
    },
    {
      "cell_type": "markdown",
      "metadata": {
        "id": "3Ek0JCJEqUJL"
      },
      "source": [
        "# Gradio"
      ]
    },
    {
      "cell_type": "code",
      "execution_count": 18,
      "metadata": {
        "id": "ycAbn_YhqUJL"
      },
      "outputs": [],
      "source": [
        "import gradio as gr"
      ]
    },
    {
      "cell_type": "markdown",
      "metadata": {
        "id": "4DW6xPgUqUJL"
      },
      "source": [
        "# List for storing prev asked questions"
      ]
    },
    {
      "cell_type": "code",
      "source": [
        "import csv\n",
        "import os\n"
      ],
      "metadata": {
        "id": "7xQlFus1-RS2"
      },
      "execution_count": 19,
      "outputs": []
    },
    {
      "cell_type": "code",
      "source": [
        "def write_or_append_to_csv(file_name, data, headers=None):\n",
        "\n",
        "    file_exists = os.path.exists(file_name)\n",
        "\n",
        "    with open(file_name, mode='a', newline='', encoding='utf-8') as file:\n",
        "        writer = csv.writer(file)\n",
        "\n",
        "        # If the file does not exist, write headers (if provided)\n",
        "        if not file_exists and headers:\n",
        "            writer.writerow(headers)\n",
        "\n",
        "        # Write the data rows\n",
        "        writer.writerows(data)"
      ],
      "metadata": {
        "id": "XOcV9gK3-k8E"
      },
      "execution_count": 20,
      "outputs": []
    },
    {
      "cell_type": "code",
      "source": [
        "def save_history(question, resp1):\n",
        "    file_name = \"data.csv\"\n",
        "    headers = [\"questions\"]+list(resp1.keys())\n",
        "\n",
        "    write_or_append_to_csv(file_name, [[question]+ list(resp1.values())], headers)\n"
      ],
      "metadata": {
        "id": "22iEmsCp99Hd"
      },
      "execution_count": 23,
      "outputs": []
    },
    {
      "cell_type": "code",
      "execution_count": 24,
      "metadata": {
        "id": "9wBKnUxpqUJL",
        "vscode": {
          "languageId": "plaintext"
        }
      },
      "outputs": [],
      "source": [
        "# Function to call the chains and storing the answers in list.\n",
        "def generate_response(message, _):\n",
        "    global Questions_Answers\n",
        "    responses = parallel_chain.invoke(message)\n",
        "\n",
        "\n",
        "\n",
        "    save_history(message, responses)\n",
        "\n",
        "    return responses[\"GPTRag\"], responses[\"GPT\"], responses[\"miniRag\"], responses[\"Rag_exp\"]"
      ]
    },
    {
      "cell_type": "code",
      "execution_count": 25,
      "metadata": {
        "id": "5T04vWcvqUJM",
        "vscode": {
          "languageId": "plaintext"
        }
      },
      "outputs": [],
      "source": [
        "def search_history(search_term,file_name = \"data.csv\"):\n",
        "\n",
        "    if not os.path.exists(file_name):\n",
        "        raise FileNotFoundError(f\"The file '{file_name}' does not exist.\")\n",
        "\n",
        "    filtered_results = []\n",
        "\n",
        "    # Read the CSV and search for the term\n",
        "    with open(file_name, mode='r', newline='', encoding='utf-8') as file:\n",
        "        reader = csv.reader(file)\n",
        "        headers = next(reader, None)  # Read headers if they exist\n",
        "\n",
        "        for row in reader:\n",
        "            # Assume the question is in the first column\n",
        "            if search_term.lower() in row[0].lower():\n",
        "                filtered_results.append(tuple(row))\n",
        "\n",
        "    return filtered_results"
      ]
    },
    {
      "cell_type": "markdown",
      "metadata": {
        "id": "5yjOC1giqUJM"
      },
      "source": [
        "### Gradio Interface"
      ]
    },
    {
      "cell_type": "code",
      "execution_count": 28,
      "metadata": {
        "id": "P_w86yTbqUJM",
        "vscode": {
          "languageId": "plaintext"
        },
        "colab": {
          "base_uri": "https://localhost:8080/"
        },
        "outputId": "b0fe583b-19e0-48a8-ad35-90ce6a5ad294"
      },
      "outputs": [
        {
          "output_type": "stream",
          "name": "stderr",
          "text": [
            "/usr/local/lib/python3.10/dist-packages/gradio/utils.py:999: UserWarning: Expected 2 arguments for function <function generate_response at 0x7a8b63e75990>, received 1.\n",
            "  warnings.warn(\n",
            "/usr/local/lib/python3.10/dist-packages/gradio/utils.py:1003: UserWarning: Expected at least 2 arguments for function <function generate_response at 0x7a8b63e75990>, received 1.\n",
            "  warnings.warn(\n"
          ]
        }
      ],
      "source": [
        "\n",
        "# Gradio Interface for Chatbot Tab\n",
        "with gr.Blocks(fill_width=True, fill_height=True) as chatbot_tab:\n",
        "    gr.Markdown(\"### Chatbot\")\n",
        "\n",
        "    # Input box for user question\n",
        "    question_input = gr.Textbox(label=\"Ask a question\")\n",
        "\n",
        "    # Button to submit question\n",
        "    submit_button = gr.Button(\"Submit\")\n",
        "\n",
        "    gr.HTML(\"<hr>\")\n",
        "    gr.Markdown(\"**Noobie Rag**\")\n",
        "    response4 = gr.Markdown(\"\")\n",
        "\n",
        "    gr.HTML(\"<hr>\")\n",
        "    gr.Markdown(\"**GPT Rag**\")\n",
        "    response1 = gr.Markdown(\"\")\n",
        "\n",
        "\n",
        "    gr.HTML(\"<hr>\")\n",
        "    gr.Markdown(\"**GPT Simple**\")\n",
        "    response2 = gr.Markdown(\"\")\n",
        "\n",
        "    gr.HTML(\"<hr>\")\n",
        "    gr.Markdown(\"**MINI Rag**\")\n",
        "    response3 = gr.Markdown(\"\")\n",
        "\n",
        "    gr.HTML(\"<hr>\")\n",
        "\n",
        "\n",
        "    # Connect question input to chatbot function and display response\n",
        "    submit_button.click(fn=generate_response,\n",
        "                        inputs=question_input, outputs=[response1, response2, response3, response4])\n",
        "\n",
        "\n",
        "# Gradio Interface for Previous Responses Tab\n",
        "with gr.Blocks() as history_tab:\n",
        "    gr.Markdown(\"### Previous Responses\")\n",
        "\n",
        "    # Search bar to filter questions\n",
        "    search_input = gr.Textbox(label=\"Search questions\")\n",
        "\n",
        "    # Display previous questions in rows\n",
        "    questions_output = gr.Dataframe(headers=[\"Question\", \"Response\"], interactive=False)\n",
        "\n",
        "    # Update questions output based on search term\n",
        "    search_input.change(fn=search_history, inputs=search_input, outputs=questions_output)\n",
        "\n",
        "\n",
        "# Combine the tabs into a single interface\n",
        "with gr.Blocks() as app:\n",
        "    with gr.Tabs():\n",
        "        with gr.TabItem(\"Chatbot\"):\n",
        "            chatbot_tab.render()\n",
        "\n",
        "        with gr.TabItem(\"Previous Responses\"):\n",
        "            history_tab.render()"
      ]
    },
    {
      "cell_type": "code",
      "execution_count": 29,
      "metadata": {
        "id": "roDvBRNhqUJN",
        "vscode": {
          "languageId": "plaintext"
        },
        "colab": {
          "base_uri": "https://localhost:8080/",
          "height": 645
        },
        "outputId": "bed8d86c-75be-42d9-eb5a-103628211d18"
      },
      "outputs": [
        {
          "output_type": "stream",
          "name": "stdout",
          "text": [
            "Running Gradio in a Colab notebook requires sharing enabled. Automatically setting `share=True` (you can turn this off by setting `share=False` in `launch()` explicitly).\n",
            "\n",
            "Colab notebook detected. To show errors in colab notebook, set debug=True in launch()\n",
            "* Running on public URL: https://1e91f155ade4933694.gradio.live\n",
            "\n",
            "This share link expires in 72 hours. For free permanent hosting and GPU upgrades, run `gradio deploy` from the terminal in the working directory to deploy to Hugging Face Spaces (https://huggingface.co/spaces)\n"
          ]
        },
        {
          "output_type": "display_data",
          "data": {
            "text/plain": [
              "<IPython.core.display.HTML object>"
            ],
            "text/html": [
              "<div><iframe src=\"https://1e91f155ade4933694.gradio.live\" width=\"100%\" height=\"500\" allow=\"autoplay; camera; microphone; clipboard-read; clipboard-write;\" frameborder=\"0\" allowfullscreen></iframe></div>"
            ]
          },
          "metadata": {}
        },
        {
          "output_type": "execute_result",
          "data": {
            "text/plain": []
          },
          "metadata": {},
          "execution_count": 29
        }
      ],
      "source": [
        "app.launch()"
      ]
    },
    {
      "cell_type": "code",
      "execution_count": null,
      "metadata": {
        "id": "wOs860jXqUJN",
        "vscode": {
          "languageId": "plaintext"
        }
      },
      "outputs": [],
      "source": []
    },
    {
      "cell_type": "code",
      "source": [],
      "metadata": {
        "id": "lnJ4hOkxY3WI"
      },
      "execution_count": null,
      "outputs": []
    }
  ],
  "metadata": {
    "colab": {
      "provenance": [],
      "include_colab_link": true
    },
    "kernelspec": {
      "display_name": "Python 3",
      "name": "python3"
    },
    "language_info": {
      "name": "python"
    }
  },
  "nbformat": 4,
  "nbformat_minor": 0
}