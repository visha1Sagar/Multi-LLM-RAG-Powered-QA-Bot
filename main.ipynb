{
 "cells": [
  {
   "cell_type": "markdown",
   "metadata": {
    "id": "MTZgiXooqUJC"
   },
   "source": [
    "## Installing required libraries"
   ]
  },
  {
   "cell_type": "code",
   "execution_count": 1,
   "metadata": {
    "colab": {
     "base_uri": "https://localhost:8080/"
    },
    "id": "-v0ChsfoqUJF",
    "outputId": "75b60f69-6bd5-463a-d667-8e1fa1f069bf",
    "vscode": {
     "languageId": "plaintext"
    }
   },
   "outputs": [
    {
     "name": "stdout",
     "output_type": "stream",
     "text": [
      "\u001b[2K   \u001b[90m━━━━━━━━━━━━━━━━━━━━━━━━━━━━━━━━━━━━━━━━\u001b[0m \u001b[32m2.4/2.4 MB\u001b[0m \u001b[31m66.6 MB/s\u001b[0m eta \u001b[36m0:00:00\u001b[0m\n",
      "\u001b[2K   \u001b[90m━━━━━━━━━━━━━━━━━━━━━━━━━━━━━━━━━━━━━━━━\u001b[0m \u001b[32m57.1/57.1 MB\u001b[0m \u001b[31m12.6 MB/s\u001b[0m eta \u001b[36m0:00:00\u001b[0m\n",
      "\u001b[2K   \u001b[90m━━━━━━━━━━━━━━━━━━━━━━━━━━━━━━━━━━━━━━━━\u001b[0m \u001b[32m320.1/320.1 kB\u001b[0m \u001b[31m22.7 MB/s\u001b[0m eta \u001b[36m0:00:00\u001b[0m\n",
      "\u001b[2K   \u001b[90m━━━━━━━━━━━━━━━━━━━━━━━━━━━━━━━━━━━━━━━━\u001b[0m \u001b[32m298.0/298.0 kB\u001b[0m \u001b[31m23.3 MB/s\u001b[0m eta \u001b[36m0:00:00\u001b[0m\n",
      "\u001b[2K   \u001b[90m━━━━━━━━━━━━━━━━━━━━━━━━━━━━━━━━━━━━━━━━\u001b[0m \u001b[32m50.4/50.4 kB\u001b[0m \u001b[31m4.4 MB/s\u001b[0m eta \u001b[36m0:00:00\u001b[0m\n",
      "\u001b[2K   \u001b[90m━━━━━━━━━━━━━━━━━━━━━━━━━━━━━━━━━━━━━━━━\u001b[0m \u001b[32m27.5/27.5 MB\u001b[0m \u001b[31m61.9 MB/s\u001b[0m eta \u001b[36m0:00:00\u001b[0m\n",
      "\u001b[2K   \u001b[90m━━━━━━━━━━━━━━━━━━━━━━━━━━━━━━━━━━━━━━━━\u001b[0m \u001b[32m94.9/94.9 kB\u001b[0m \u001b[31m8.2 MB/s\u001b[0m eta \u001b[36m0:00:00\u001b[0m\n",
      "\u001b[2K   \u001b[90m━━━━━━━━━━━━━━━━━━━━━━━━━━━━━━━━━━━━━━━━\u001b[0m \u001b[32m11.1/11.1 MB\u001b[0m \u001b[31m95.7 MB/s\u001b[0m eta \u001b[36m0:00:00\u001b[0m\n",
      "\u001b[2K   \u001b[90m━━━━━━━━━━━━━━━━━━━━━━━━━━━━━━━━━━━━━━━━\u001b[0m \u001b[32m3.1/3.1 MB\u001b[0m \u001b[31m73.3 MB/s\u001b[0m eta \u001b[36m0:00:00\u001b[0m\n",
      "\u001b[2K   \u001b[90m━━━━━━━━━━━━━━━━━━━━━━━━━━━━━━━━━━━━━━━━\u001b[0m \u001b[32m73.3/73.3 kB\u001b[0m \u001b[31m6.2 MB/s\u001b[0m eta \u001b[36m0:00:00\u001b[0m\n",
      "\u001b[2K   \u001b[90m━━━━━━━━━━━━━━━━━━━━━━━━━━━━━━━━━━━━━━━━\u001b[0m \u001b[32m1.2/1.2 MB\u001b[0m \u001b[31m58.1 MB/s\u001b[0m eta \u001b[36m0:00:00\u001b[0m\n",
      "\u001b[2K   \u001b[90m━━━━━━━━━━━━━━━━━━━━━━━━━━━━━━━━━━━━━━━━\u001b[0m \u001b[32m63.7/63.7 kB\u001b[0m \u001b[31m5.6 MB/s\u001b[0m eta \u001b[36m0:00:00\u001b[0m\n",
      "\u001b[2K   \u001b[90m━━━━━━━━━━━━━━━━━━━━━━━━━━━━━━━━━━━━━━━━\u001b[0m \u001b[32m49.5/49.5 kB\u001b[0m \u001b[31m4.1 MB/s\u001b[0m eta \u001b[36m0:00:00\u001b[0m\n",
      "\u001b[2K   \u001b[90m━━━━━━━━━━━━━━━━━━━━━━━━━━━━━━━━━━━━━━━━\u001b[0m \u001b[32m130.2/130.2 kB\u001b[0m \u001b[31m10.0 MB/s\u001b[0m eta \u001b[36m0:00:00\u001b[0m\n",
      "\u001b[?25h"
     ]
    }
   ],
   "source": [
    "!pip install --quiet --upgrade langchain langchain-community gradio pypdf langchain-openai faiss-cpu"
   ]
  },
  {
   "cell_type": "markdown",
   "metadata": {
    "id": "i5Y0ye4KqUJG"
   },
   "source": [
    "## loading credentials from .env"
   ]
  },
  {
   "cell_type": "code",
   "execution_count": null,
   "metadata": {
    "id": "GjgEZu5bqUJH",
    "vscode": {
     "languageId": "plaintext"
    }
   },
   "outputs": [],
   "source": [
    "# import os\n",
    "# from dotenv import load_dotenv\n",
    "\n",
    "# load_dotenv('azure_credentials.env')\n",
    "\n",
    "# EMBEDDING_MODEL_NAME = os.getenv(\"EMBEDDING_MODEL_NAME\")\n",
    "# EMBEDDING_ENDPOINT = os.getenv(\"EMBEDDING_ENDPOINT\")\n",
    "# EMBEDDING_API_VERSION = os.getenv(\"EMBEDDING_API_VERSION\")\n",
    "# EMBEDDING_API_KEY = os.getenv(\"EMBEDDING_API_KEY\")\n",
    "# AZURE_OPENAI_API_KEY = os.getenv(\"AZURE_OPENAI_API_KEY\")\n",
    "# API_VERSION = os.getenv(\"API_VERSION\")\n",
    "# AZURE_ENDPOINT = os.getenv(\"AZURE_ENDPOINT\")"
   ]
  },
  {
   "cell_type": "code",
   "execution_count": 3,
   "metadata": {
    "id": "ubIUBGintSrv"
   },
   "outputs": [],
   "source": [
    "from google.colab import userdata\n",
    "\n",
    "EMBEDDING_MODEL_NAME = userdata.get(\"EMBEDDING_MODEL_NAME\")\n",
    "EMBEDDING_ENDPOINT = userdata.get(\"EMBEDDING_ENDPOINT\")\n",
    "EMBEDDING_API_VERSION = userdata.get(\"EMBEDDING_API_VERSION\")\n",
    "EMBEDDING_API_KEY = userdata.get(\"EMBEDDING_API_KEY\")\n",
    "AZURE_OPENAI_API_KEY = userdata.get(\"AZURE_OPENAI_API_KEY\")\n",
    "API_VERSION = userdata.get(\"api_version\")\n",
    "AZURE_ENDPOINT = userdata.get(\"AZURE_ENDPOINT\")"
   ]
  },
  {
   "cell_type": "markdown",
   "metadata": {
    "id": "2I-s38YCqUJI"
   },
   "source": [
    "## Importing required libraries"
   ]
  },
  {
   "cell_type": "code",
   "execution_count": 5,
   "metadata": {
    "id": "UFxV1TAFqUJI",
    "vscode": {
     "languageId": "plaintext"
    }
   },
   "outputs": [],
   "source": [
    "from langchain_openai import AzureChatOpenAI, AzureOpenAIEmbeddings\n",
    "from langchain_core.output_parsers import StrOutputParser\n",
    "from langchain_core.runnables import RunnablePassthrough\n",
    "from langchain_community.vectorstores import FAISS\n",
    "\n",
    "from langchain_core.vectorstores import InMemoryVectorStore\n",
    "from langchain_core.runnables import RunnableParallel\n",
    "\n",
    "from langchain_core.prompts import ChatPromptTemplate\n",
    "\n",
    "from langchain_community.document_loaders import PyPDFLoader\n",
    "\n",
    "from utils import *"
   ]
  },
  {
   "cell_type": "markdown",
   "metadata": {
    "id": "MsRRfkROqUJJ"
   },
   "source": [
    "## Defining LLMs"
   ]
  },
  {
   "cell_type": "code",
   "execution_count": null,
   "metadata": {
    "id": "ZwoEM8xwqUJJ",
    "vscode": {
     "languageId": "plaintext"
    }
   },
   "outputs": [],
   "source": [
    "llm = AzureChatOpenAI(\n",
    "    api_key=AZURE_OPENAI_API_KEY  ,\n",
    "    api_version=API_VERSION,\n",
    "    azure_endpoint = AZURE_ENDPOINT\n",
    "    )\n",
    "\n",
    "llm_2 = AzureChatOpenAI(\n",
    "    api_key=AZURE_OPENAI_API_KEY  ,\n",
    "    api_version=API_VERSION,\n",
    "    azure_endpoint = AZURE_ENDPOINT\n",
    "    )"
   ]
  },
  {
   "cell_type": "markdown",
   "metadata": {
    "id": "m5M21hISqUJK"
   },
   "source": [
    "## Prompts"
   ]
  },
  {
   "cell_type": "code",
   "execution_count": null,
   "metadata": {
    "id": "nqNsFptCqUJK",
    "vscode": {
     "languageId": "plaintext"
    }
   },
   "outputs": [],
   "source": [
    "from utils import prompt_ as rag_prompt, simple_prompt"
   ]
  },
  {
   "cell_type": "markdown",
   "metadata": {
    "id": "VB1iDGIfqUJK"
   },
   "source": [
    "## Getting Vector DB's Retriever"
   ]
  },
  {
   "cell_type": "code",
   "execution_count": null,
   "metadata": {
    "id": "xyuBWxNqqUJK",
    "vscode": {
     "languageId": "plaintext"
    }
   },
   "outputs": [],
   "source": [
    "\n",
    "retriever = await get_retriever([\"book_name.pdf\"], embeddings=embeddings)"
   ]
  },
  {
   "cell_type": "markdown",
   "metadata": {
    "id": "uHFcyA9rqUJL"
   },
   "source": [
    "## Chains"
   ]
  },
  {
   "cell_type": "code",
   "execution_count": null,
   "metadata": {
    "id": "nXaKB_z5qUJL",
    "vscode": {
     "languageId": "plaintext"
    }
   },
   "outputs": [],
   "source": [
    "from utils import get_rag_chain\n",
    "\n",
    "\n",
    "# Define the second chain with LLM 2\n",
    "rag_chain_1 = get_rag_chain(retriever, llm, prompt_)\n",
    "rag_chain_2 = get_rag_chain(retriever, llm_2, prompt_)\n",
    "\n",
    "# Define the third chain with LLM, without RAG\n",
    "chain3 = (\n",
    "    simple_prompt\n",
    "    | llm2  # Second LLM instance\n",
    "    | StrOutputParser()\n",
    ")\n",
    "\n",
    "# Run all chains in parallel with RunnableParallel\n",
    "parallel_chain = RunnableParallel(\n",
    "    {\"GPT_4o_MINI\": rag_chain_1, \"GPT_4o\": rag_chain_2, \"GP 4o Raw\": chain3}\n",
    ")\n"
   ]
  },
  {
   "cell_type": "markdown",
   "metadata": {
    "id": "3Ek0JCJEqUJL"
   },
   "source": [
    "# Gradio"
   ]
  },
  {
   "cell_type": "code",
   "execution_count": null,
   "metadata": {
    "id": "ycAbn_YhqUJL"
   },
   "outputs": [],
   "source": [
    "import gradio as gr"
   ]
  },
  {
   "cell_type": "markdown",
   "metadata": {
    "id": "4DW6xPgUqUJL"
   },
   "source": [
    "# List for storing prev asked questions"
   ]
  },
  {
   "cell_type": "code",
   "execution_count": null,
   "metadata": {
    "id": "li0AALaoqUJL"
   },
   "outputs": [],
   "source": [
    "qa_history = []"
   ]
  },
  {
   "cell_type": "code",
   "execution_count": null,
   "metadata": {
    "id": "9wBKnUxpqUJL",
    "vscode": {
     "languageId": "plaintext"
    }
   },
   "outputs": [],
   "source": [
    "# Function to call the chains and storing the answers in list.\n",
    "def generate_response(message, _):\n",
    "    global Questions_Answers\n",
    "    responses = parallel_chain.invoke(message)\n",
    "    qa_history.append({\"question\": message, \"response\": responses})\n",
    "\n",
    "    return responses[\"GPT_4o_MINI\"], responses[\"GPT_4o\"], responses[\"GP 4o Raw\"]"
   ]
  },
  {
   "cell_type": "code",
   "execution_count": null,
   "metadata": {
    "id": "5T04vWcvqUJM",
    "vscode": {
     "languageId": "plaintext"
    }
   },
   "outputs": [],
   "source": [
    "# Function to filter previous responses based on a search term\n",
    "def search_history(search_term):\n",
    "    # If search_term is empty, return all questions\n",
    "    if search_term == \"\":\n",
    "        return [(qa[\"question\"], qa[\"response\"]) for i, qa in enumerate(qa_history)]\n",
    "\n",
    "    # Filter questions that contain the search term\n",
    "    filtered_history = [(qa[\"question\"], str(qa[\"response\"])) for qa in qa_history if search_term.lower() in qa[\"question\"].lower()]\n",
    "    return filtered_history"
   ]
  },
  {
   "cell_type": "markdown",
   "metadata": {
    "id": "5yjOC1giqUJM"
   },
   "source": [
    "### Gradio Interface"
   ]
  },
  {
   "cell_type": "code",
   "execution_count": null,
   "metadata": {
    "id": "P_w86yTbqUJM",
    "vscode": {
     "languageId": "plaintext"
    }
   },
   "outputs": [],
   "source": [
    "with gr.Blocks() as files:\n",
    "    file_output = gr.File()\n",
    "    upload_button = gr.UploadButton(\"Click to Upload a File\", file_types=[\"image\", \"video\"], file_count=\"multiple\")\n",
    "    upload_button.upload(upload_file, upload_button, file_output)\n",
    "\n",
    "# Gradio Interface for Chatbot Tab\n",
    "with gr.Blocks(fill_width=True, fill_height=True) as chatbot_tab:\n",
    "    gr.Markdown(\"### Chatbot\")\n",
    "\n",
    "    # Input box for user question\n",
    "    question_input = gr.Textbox(label=\"Ask a question\")\n",
    "\n",
    "\n",
    "    gr.HTML(\"<hr>\")\n",
    "    gr.Markdown(\"GPT 4o Mini RAG response\")\n",
    "    response1 = gr.Markdown(\"\")\n",
    "\n",
    "\n",
    "    gr.HTML(\"<hr>\")\n",
    "    gr.Markdown(\"GPT 4o RAG response\")\n",
    "    response2 = gr.Markdown(\"\")\n",
    "\n",
    "    gr.HTML(\"<hr>\")\n",
    "    gr.Markdown(\"GPT 4o response\")\n",
    "    response3 = gr.Markdown(\"\")\n",
    "\n",
    "    gr.HTML(\"<hr>\")\n",
    "\n",
    "    # Button to submit question\n",
    "    submit_button = gr.Button(\"Submit\")\n",
    "\n",
    "    # Connect question input to chatbot function and display response\n",
    "    submit_button.click(fn=generate_response,\n",
    "                        inputs=question_input, outputs=[response1, response2, response3])\n",
    "\n",
    "\n",
    "# Gradio Interface for Previous Responses Tab\n",
    "with gr.Blocks() as history_tab:\n",
    "    gr.Markdown(\"### Previous Responses\")\n",
    "\n",
    "    # Search bar to filter questions\n",
    "    search_input = gr.Textbox(label=\"Search questions\")\n",
    "\n",
    "    # Display previous questions in rows\n",
    "    questions_output = gr.Dataframe(headers=[\"Question\", \"Response\"], interactive=False)\n",
    "\n",
    "    # Update questions output based on search term\n",
    "    search_input.change(fn=search_history, inputs=search_input, outputs=questions_output)\n",
    "\n",
    "\n",
    "# Combine the tabs into a single interface\n",
    "with gr.Blocks() as app:\n",
    "    with gr.Tabs():\n",
    "        with gr.TabItem(\"Chatbot\"):\n",
    "            chatbot_tab.render()\n",
    "\n",
    "        with gr.TabItem(\"Previous Responses\"):\n",
    "            history_tab.render()"
   ]
  },
  {
   "cell_type": "code",
   "execution_count": null,
   "metadata": {
    "id": "roDvBRNhqUJN",
    "vscode": {
     "languageId": "plaintext"
    }
   },
   "outputs": [],
   "source": [
    "app.launch()"
   ]
  },
  {
   "cell_type": "code",
   "execution_count": null,
   "metadata": {
    "id": "wOs860jXqUJN",
    "vscode": {
     "languageId": "plaintext"
    }
   },
   "outputs": [],
   "source": []
  }
 ],
 "metadata": {
  "colab": {
   "provenance": []
  },
  "kernelspec": {
   "display_name": "Python 3",
   "name": "python3"
  },
  "language_info": {
   "name": "python"
  }
 },
 "nbformat": 4,
 "nbformat_minor": 0
}
